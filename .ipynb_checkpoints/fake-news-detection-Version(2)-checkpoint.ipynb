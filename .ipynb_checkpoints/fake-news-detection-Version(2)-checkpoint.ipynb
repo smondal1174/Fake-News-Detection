{
 "cells": [
  {
   "cell_type": "markdown",
   "id": "5493165a",
   "metadata": {},
   "source": [
    "# Importing the necessary libraries"
   ]
  },
  {
   "cell_type": "code",
   "execution_count": 1,
   "id": "5e1c4945",
   "metadata": {},
   "outputs": [],
   "source": [
    "# Load the data\n",
    "import pandas as pd\n",
    "import numpy as np\n",
    "import matplotlib.pyplot as plt\n",
    "import warnings\n",
    "warnings.filterwarnings('ignore')"
   ]
  },
  {
   "cell_type": "markdown",
   "id": "9430e327",
   "metadata": {},
   "source": [
    "# Importing the dataset"
   ]
  },
  {
   "cell_type": "code",
   "execution_count": 2,
   "id": "27b144de",
   "metadata": {},
   "outputs": [],
   "source": [
    "# Load the train and test files\n",
    "train = pd.read_csv(r\"C:\\Users\\KIIT\\Desktop\\T&T lab\\train.csv\", sep='\\t', encoding='utf-8')\n",
    "test = pd.read_csv(r\"C:\\Users\\KIIT\\Desktop\\T&T lab\\test.csv\", sep='\\t', encoding='utf-8')"
   ]
  },
  {
   "cell_type": "code",
   "execution_count": 3,
   "id": "f540cad3",
   "metadata": {},
   "outputs": [
    {
     "data": {
      "text/html": [
       "<div>\n",
       "<style scoped>\n",
       "    .dataframe tbody tr th:only-of-type {\n",
       "        vertical-align: middle;\n",
       "    }\n",
       "\n",
       "    .dataframe tbody tr th {\n",
       "        vertical-align: top;\n",
       "    }\n",
       "\n",
       "    .dataframe thead th {\n",
       "        text-align: right;\n",
       "    }\n",
       "</style>\n",
       "<table border=\"1\" class=\"dataframe\">\n",
       "  <thead>\n",
       "    <tr style=\"text-align: right;\">\n",
       "      <th></th>\n",
       "      <th>text</th>\n",
       "      <th>label</th>\n",
       "    </tr>\n",
       "  </thead>\n",
       "  <tbody>\n",
       "    <tr>\n",
       "      <th>0</th>\n",
       "      <td>Get the latest from TODAY Sign up for our news...</td>\n",
       "      <td>1</td>\n",
       "    </tr>\n",
       "    <tr>\n",
       "      <th>1</th>\n",
       "      <td>2d  Conan On The Funeral Trump Will Be Invited...</td>\n",
       "      <td>1</td>\n",
       "    </tr>\n",
       "    <tr>\n",
       "      <th>2</th>\n",
       "      <td>It’s safe to say that Instagram Stories has fa...</td>\n",
       "      <td>0</td>\n",
       "    </tr>\n",
       "    <tr>\n",
       "      <th>3</th>\n",
       "      <td>Much like a certain Amazon goddess with a lass...</td>\n",
       "      <td>0</td>\n",
       "    </tr>\n",
       "    <tr>\n",
       "      <th>4</th>\n",
       "      <td>At a time when the perfect outfit is just one ...</td>\n",
       "      <td>0</td>\n",
       "    </tr>\n",
       "  </tbody>\n",
       "</table>\n",
       "</div>"
      ],
      "text/plain": [
       "                                                text label\n",
       "0  Get the latest from TODAY Sign up for our news...     1\n",
       "1  2d  Conan On The Funeral Trump Will Be Invited...     1\n",
       "2  It’s safe to say that Instagram Stories has fa...     0\n",
       "3  Much like a certain Amazon goddess with a lass...     0\n",
       "4  At a time when the perfect outfit is just one ...     0"
      ]
     },
     "execution_count": 3,
     "metadata": {},
     "output_type": "execute_result"
    }
   ],
   "source": [
    "train.head()"
   ]
  },
  {
   "cell_type": "code",
   "execution_count": 4,
   "id": "daa54010",
   "metadata": {},
   "outputs": [
    {
     "name": "stderr",
     "output_type": "stream",
     "text": [
      "[nltk_data] Downloading package punkt to\n",
      "[nltk_data]     C:\\Users\\KIIT\\AppData\\Roaming\\nltk_data...\n",
      "[nltk_data]   Unzipping tokenizers\\punkt.zip.\n",
      "[nltk_data] Downloading package stopwords to\n",
      "[nltk_data]     C:\\Users\\KIIT\\AppData\\Roaming\\nltk_data...\n",
      "[nltk_data]   Unzipping corpora\\stopwords.zip.\n"
     ]
    },
    {
     "data": {
      "text/plain": [
       "True"
      ]
     },
     "execution_count": 4,
     "metadata": {},
     "output_type": "execute_result"
    }
   ],
   "source": [
    "import nltk #Import NLTK ---> Natural Language Toolkit\n",
    "nltk.download('punkt')\n",
    "nltk.download('stopwords')"
   ]
  },
  {
   "cell_type": "code",
   "execution_count": 5,
   "id": "7de459c1",
   "metadata": {},
   "outputs": [
    {
     "data": {
      "text/plain": [
       "'Get the latest from TODAY Sign up for our newsletter  No one ever truly gets over losing a loved one, and Blake Shelton is no exception. He was just 14 when his older brother Richie died on Nov. 13, 1990. And, as Shelton noted in a tweet Monday, \"It changed my life forever.\"  Richie was 24 when he died in a car accident in the Sheltons\\' home state of Oklahoma. Two years ago, Shelton sent out a message for the 25th anniversary of his loss:  Richie, who was Blake\\'s half-brother (they shared a mother), was a passenger in a car that collided with a school bus in Ada, south of Oklahoma City.  Richie, driver Redena McManus and a 3-year-old boy, Christopher McManus, all died during or shortly after the collision, while the bus driver and passengers were uninjured, according to police reports.  The accident has clearly remained with Blake, who told 60 Minutes in 2014, \"I remember picking up the phone to call him a week after he was dead, to tell him something. I was picking up the phone to call him, to tell him something I just saw on TV or, and it was like constantly a shock to me that he was dead.\"  Blake Shelton playing at TODAY\\'s Halloween Extravaganza in New York City on Oct. 31. Getty Images  In 2011, Blake and his then-wife Miranda Lambert wrote a single called \"Over You,\" which was inspired by Richie.  Still, the two brothers had bonded despite the age difference; both shared a love of country music. \"His bedroom was right across the hallway from mine when I was little,\" Blake said in that interview. \"And he was listening to Hank Williams, Jr. or Waylon, Lynyrd Skynyrd or Bob Seeger. I just, whatever was popular really, Richie loved all music.  \"And I would be sitting there going, \\'Man, that guy\\'s my hero. That\\'s the coolest guy. He’s my big brother.\\'\"  Follow Randee Dawn on Twitter.'"
      ]
     },
     "execution_count": 5,
     "metadata": {},
     "output_type": "execute_result"
    }
   ],
   "source": [
    "train['text'].loc[0]"
   ]
  },
  {
   "cell_type": "code",
   "execution_count": 6,
   "id": "38f31ed9",
   "metadata": {},
   "outputs": [
    {
     "data": {
      "text/plain": [
       "'Get the latest from TODAY Sign up for our newsletter  No one ever truly gets over losing a loved one, and Blake Shelton is no exception. He was just 14 when his older brother Richie died on Nov. 13, 1990. And, as Shelton noted in a tweet Monday, \"It changed my life forever.\"  Richie was 24 when he died in a car accident in the Sheltons\\' home state of Oklahoma. Two years ago, Shelton sent out a message for the 25th anniversary of his loss:  Richie, who was Blake\\'s half-brother (they shared a mother), was a passenger in a car that collided with a school bus in Ada, south of Oklahoma City.  Richie, driver Redena McManus and a 3-year-old boy, Christopher McManus, all died during or shortly after the collision, while the bus driver and passengers were uninjured, according to police reports.  The accident has clearly remained with Blake, who told 60 Minutes in 2014, \"I remember picking up the phone to call him a week after he was dead, to tell him something. I was picking up the phone to call him, to tell him something I just saw on TV or, and it was like constantly a shock to me that he was dead.\"  Blake Shelton playing at TODAY\\'s Halloween Extravaganza in New York City on Oct. 31. Getty Images  In 2011, Blake and his then-wife Miranda Lambert wrote a single called \"Over You,\" which was inspired by Richie.  Still, the two brothers had bonded despite the age difference; both shared a love of country music. \"His bedroom was right across the hallway from mine when I was little,\" Blake said in that interview. \"And he was listening to Hank Williams, Jr. or Waylon, Lynyrd Skynyrd or Bob Seeger. I just, whatever was popular really, Richie loved all music.  \"And I would be sitting there going, \\'Man, that guy\\'s my hero. That\\'s the coolest guy. He’s my big brother.\\'\"  Follow Randee Dawn on Twitter.'"
      ]
     },
     "execution_count": 6,
     "metadata": {},
     "output_type": "execute_result"
    }
   ],
   "source": [
    "train.text.loc[ : 5].values.tolist()[0]"
   ]
  },
  {
   "cell_type": "markdown",
   "id": "89193f7b",
   "metadata": {},
   "source": [
    "# Data Preprocessing"
   ]
  },
  {
   "cell_type": "code",
   "execution_count": 7,
   "id": "f6d5a34b",
   "metadata": {},
   "outputs": [],
   "source": [
    "from nltk.tokenize import sent_tokenize, word_tokenize, RegexpTokenizer\n",
    "from nltk.corpus import stopwords\n",
    "from nltk.stem import PorterStemmer\n",
    "from sklearn.feature_extraction.text import TfidfVectorizer"
   ]
  },
  {
   "cell_type": "code",
   "execution_count": 13,
   "id": "f89af331",
   "metadata": {},
   "outputs": [],
   "source": [
    "# create a function to tokenize the data\n",
    "def preprocess_data(data):\n",
    "  \n",
    "  # 1. Tokenization\n",
    "  tk = RegexpTokenizer('\\s+', gaps = True)\n",
    "  text_data = [] # List for storing the tokenized data\n",
    "  for values in data.text:\n",
    "    tokenized_data = tk.tokenize(values) # Tokenize the news\n",
    "    text_data.append(tokenized_data) # append the tokenized data\n",
    "\n",
    "  # 2. Stopword Removal\n",
    "\n",
    "  # Extract the stopwords\n",
    "  sw = stopwords.words('english')\n",
    "  clean_data = [] # List for storing the clean text\n",
    "  # Remove the stopwords using stopwords\n",
    "  for data in text_data:\n",
    "    clean_text = [words.lower() for words in data if words.lower() not in sw]\n",
    "    clean_data.append(clean_text) # Appned the clean_text in the clean_data list\n",
    "      # 4. tfidf vectorizer --> Term Frequency Inverse Document Frequency\n",
    "        \n",
    "  # 3. Stemming\n",
    "\n",
    "  # Create a stemmer object\n",
    "  ps = PorterStemmer()\n",
    "  stemmed_data = [] # List for storing the stemmed data\n",
    "  for data in clean_data:\n",
    "    stemmed_text = [ps.stem(words) for words in data] # Stem the words\n",
    "    stemmed_data.append(stemmed_text) # Append the stemmed text\n",
    "  \n",
    "\n",
    "  '''TF-IDF stands for Term Frequency Inverse Document Frequency of records. \n",
    "     It can be defined as the calculation of how relevant a word in a series or corpus is to a text. \n",
    "     The meaning increases proportionally to the number of times in the text a word appears but is compensated \n",
    "     by the word frequency in the corpus (data-set).'''\n",
    "\n",
    "  '''Term Frequency: In document d, the frequency represents the number of instances of a given word t. \n",
    "     Therefore, we can see that it becomes more relevant when a word appears in the text, which is rational. \n",
    "     Since the ordering of terms is not significant, we can use a vector to describe the text in the bag of term models. \n",
    "     For each specific term in the paper, there is an entry with the value being the term frequency.'''\n",
    "\n",
    "     # tf(t,d) = count of t in d / number of words in d\n",
    "  '''Document Frequency: This tests the meaning of the text, which is very similar to TF, in the whole corpus collection. \n",
    "     The only difference is that in document d, TF is the frequency counter for a term t, while df is the number of occurrences \n",
    "     in the document set N of the term t. In other words, the number of papers in which the word is present is DF.'''\n",
    "\n",
    "     # df(t) = occurrence of t in documents\n",
    "\n",
    "  '''Inverse Document Frequency: Mainly, it tests how relevant the word is. \n",
    "     The key aim of the search is to locate the appropriate records that fit the demand. \n",
    "     Since tf considers all terms equally significant, it is therefore not only possible to use the term frequencies \n",
    "     to measure the weight of the term in the paper. First, find the document frequency of a term t by counting the \n",
    "     number of documents containing the term.'''\n",
    "\n",
    "  ''' df(t) = N(t)\n",
    "      where\n",
    "      df(t) = Document frequency of a term t\n",
    "      N(t) = Number of documents containing the term t'''\n",
    "     # Take the log, idf(t) = log(N/ df(t))\n",
    "      # tf-idf(t, d) = tf(t, d) * idf(t)\n",
    "  \n",
    "  # Flatten the stemmed data\n",
    "\n",
    "  updated_data = []\n",
    "  for data in stemmed_data:\n",
    "    updated_data.append(\" \".join(data))\n",
    "\n",
    "  # TFID Vector object\n",
    "  tfidf = TfidfVectorizer()\n",
    "  tfidf_matrix = tfidf.fit_transform(updated_data)\n",
    "\n",
    "  return tfidf_matrix"
   ]
  },
  {
   "cell_type": "code",
   "execution_count": 14,
   "id": "69157d1c",
   "metadata": {},
   "outputs": [],
   "source": [
    "# Call the above function on the merged data\n",
    "train_len = train.shape[0]\n",
    "merged_data = pd.concat((train.drop('label', axis=1), test.drop('id', axis=1)), axis=0).reset_index().drop('index', axis=1)"
   ]
  },
  {
   "cell_type": "code",
   "execution_count": 15,
   "id": "8ef949d4",
   "metadata": {},
   "outputs": [],
   "source": [
    "# preprocess the merged data\n",
    "preprocessed_data = preprocess_data(merged_data)"
   ]
  },
  {
   "cell_type": "code",
   "execution_count": 16,
   "id": "8f4ce13f",
   "metadata": {},
   "outputs": [],
   "source": [
    "train_data = preprocessed_data[ : train_len]\n",
    "test_data = preprocessed_data[train_len : ]"
   ]
  },
  {
   "cell_type": "markdown",
   "id": "b5e2f1c2",
   "metadata": {},
   "source": [
    "# Train-Test Split"
   ]
  },
  {
   "cell_type": "code",
   "execution_count": 17,
   "id": "d7af96cf",
   "metadata": {},
   "outputs": [],
   "source": [
    "# Model selection\n",
    "from sklearn.model_selection import train_test_split \n",
    "X_train, X_test, y_train, y_test = train_test_split(train_data, train.label, test_size=0.2, random_state = 42)"
   ]
  },
  {
   "cell_type": "code",
   "execution_count": 18,
   "id": "07584038",
   "metadata": {},
   "outputs": [],
   "source": [
    "# Metrics\n",
    "from sklearn.metrics import accuracy_score"
   ]
  },
  {
   "cell_type": "markdown",
   "id": "7cca575a",
   "metadata": {},
   "source": [
    "# Modelling"
   ]
  },
  {
   "cell_type": "code",
   "execution_count": 19,
   "id": "92fd296d",
   "metadata": {},
   "outputs": [],
   "source": [
    "# model\n",
    "def compute_metrics(data, y_true, model_obj, model):\n",
    "\n",
    "  # Make predictions\n",
    "  y_pred = model_obj.predict(data)\n",
    "\n",
    "  # Compute accuracy\n",
    "  acc = accuracy_score(y_true = y_true, y_pred = y_pred)\n",
    "\n",
    "  # Make DataFrame\n",
    "  metrics = pd.DataFrame(data = np.array([acc]), index=[model], columns=['Accuracy Score'])\n",
    "  return metrics"
   ]
  },
  {
   "cell_type": "markdown",
   "id": "b0a0e05c",
   "metadata": {},
   "source": [
    "# Logistic Regression"
   ]
  },
  {
   "cell_type": "code",
   "execution_count": 20,
   "id": "000f1513",
   "metadata": {},
   "outputs": [],
   "source": [
    "# 1. LogisticRegression\n",
    "from sklearn.linear_model import LogisticRegressionCV"
   ]
  },
  {
   "cell_type": "code",
   "execution_count": 21,
   "id": "501eb1b2",
   "metadata": {},
   "outputs": [],
   "source": [
    "# Model object\n",
    "lr_reg = LogisticRegressionCV(Cs=20, cv=3, random_state=42)"
   ]
  },
  {
   "cell_type": "code",
   "execution_count": 22,
   "id": "1e479924",
   "metadata": {},
   "outputs": [
    {
     "data": {
      "text/plain": [
       "LogisticRegressionCV(Cs=20, cv=3, random_state=42)"
      ]
     },
     "execution_count": 22,
     "metadata": {},
     "output_type": "execute_result"
    }
   ],
   "source": [
    "# fit the model\n",
    "lr_reg.fit(X_train, y_train)"
   ]
  },
  {
   "cell_type": "code",
   "execution_count": 23,
   "id": "5e1af10c",
   "metadata": {},
   "outputs": [],
   "source": [
    "# Compute the Logistic Regression Metrics\n",
    "lr_metrics =  compute_metrics(X_test, y_test, lr_reg, 'LogisticRegression')"
   ]
  },
  {
   "cell_type": "code",
   "execution_count": 24,
   "id": "d5a04469",
   "metadata": {},
   "outputs": [],
   "source": [
    "lr_metrics_train =  compute_metrics(X_train, y_train, lr_reg, 'LogisticRegression')"
   ]
  },
  {
   "cell_type": "code",
   "execution_count": 25,
   "id": "2dec66f0",
   "metadata": {},
   "outputs": [
    {
     "data": {
      "text/html": [
       "<div>\n",
       "<style scoped>\n",
       "    .dataframe tbody tr th:only-of-type {\n",
       "        vertical-align: middle;\n",
       "    }\n",
       "\n",
       "    .dataframe tbody tr th {\n",
       "        vertical-align: top;\n",
       "    }\n",
       "\n",
       "    .dataframe thead th {\n",
       "        text-align: right;\n",
       "    }\n",
       "</style>\n",
       "<table border=\"1\" class=\"dataframe\">\n",
       "  <thead>\n",
       "    <tr style=\"text-align: right;\">\n",
       "      <th></th>\n",
       "      <th>Accuracy Score</th>\n",
       "    </tr>\n",
       "  </thead>\n",
       "  <tbody>\n",
       "    <tr>\n",
       "      <th>LogisticRegression</th>\n",
       "      <td>0.778557</td>\n",
       "    </tr>\n",
       "  </tbody>\n",
       "</table>\n",
       "</div>"
      ],
      "text/plain": [
       "                    Accuracy Score\n",
       "LogisticRegression        0.778557"
      ]
     },
     "execution_count": 25,
     "metadata": {},
     "output_type": "execute_result"
    }
   ],
   "source": [
    "lr_metrics"
   ]
  },
  {
   "cell_type": "markdown",
   "id": "dd697294",
   "metadata": {},
   "source": [
    "# Multinomial Naive-Bayes"
   ]
  },
  {
   "cell_type": "code",
   "execution_count": 26,
   "id": "89d43e98",
   "metadata": {},
   "outputs": [],
   "source": [
    "#2. Naive Bayes\n",
    "from sklearn.naive_bayes import MultinomialNB\n"
   ]
  },
  {
   "cell_type": "code",
   "execution_count": 27,
   "id": "d1aa2fba",
   "metadata": {},
   "outputs": [],
   "source": [
    "# Model Object\n",
    "mnb = MultinomialNB(alpha=0.0)"
   ]
  },
  {
   "cell_type": "code",
   "execution_count": 28,
   "id": "f119b194",
   "metadata": {},
   "outputs": [
    {
     "data": {
      "text/plain": [
       "MultinomialNB(alpha=0.0)"
      ]
     },
     "execution_count": 28,
     "metadata": {},
     "output_type": "execute_result"
    }
   ],
   "source": [
    "# Fit the object\n",
    "mnb.fit(X_train, y_train)"
   ]
  },
  {
   "cell_type": "code",
   "execution_count": 29,
   "id": "1c194a0e",
   "metadata": {},
   "outputs": [],
   "source": [
    "# Compute metrics\n",
    "mnb_metrics = compute_metrics(X_test, y_test, mnb, 'Naive Bayes')"
   ]
  },
  {
   "cell_type": "code",
   "execution_count": 30,
   "id": "8dafb837",
   "metadata": {},
   "outputs": [
    {
     "data": {
      "text/html": [
       "<div>\n",
       "<style scoped>\n",
       "    .dataframe tbody tr th:only-of-type {\n",
       "        vertical-align: middle;\n",
       "    }\n",
       "\n",
       "    .dataframe tbody tr th {\n",
       "        vertical-align: top;\n",
       "    }\n",
       "\n",
       "    .dataframe thead th {\n",
       "        text-align: right;\n",
       "    }\n",
       "</style>\n",
       "<table border=\"1\" class=\"dataframe\">\n",
       "  <thead>\n",
       "    <tr style=\"text-align: right;\">\n",
       "      <th></th>\n",
       "      <th>Accuracy Score</th>\n",
       "    </tr>\n",
       "  </thead>\n",
       "  <tbody>\n",
       "    <tr>\n",
       "      <th>Naive Bayes</th>\n",
       "      <td>0.719439</td>\n",
       "    </tr>\n",
       "  </tbody>\n",
       "</table>\n",
       "</div>"
      ],
      "text/plain": [
       "             Accuracy Score\n",
       "Naive Bayes        0.719439"
      ]
     },
     "execution_count": 30,
     "metadata": {},
     "output_type": "execute_result"
    }
   ],
   "source": [
    "mnb_metrics"
   ]
  },
  {
   "cell_type": "markdown",
   "id": "88d2aee4",
   "metadata": {},
   "source": [
    "# Descision Tree Classifier"
   ]
  },
  {
   "cell_type": "code",
   "execution_count": 31,
   "id": "1d95ab4f",
   "metadata": {},
   "outputs": [],
   "source": [
    "# 3. DecisionTree\n",
    "from sklearn.tree import DecisionTreeClassifier"
   ]
  },
  {
   "cell_type": "code",
   "execution_count": 32,
   "id": "58dfd7a7",
   "metadata": {},
   "outputs": [],
   "source": [
    "# Model Object\n",
    "dt_clf = DecisionTreeClassifier()"
   ]
  },
  {
   "cell_type": "code",
   "execution_count": 33,
   "id": "daefeb78",
   "metadata": {},
   "outputs": [
    {
     "data": {
      "text/plain": [
       "DecisionTreeClassifier()"
      ]
     },
     "execution_count": 33,
     "metadata": {},
     "output_type": "execute_result"
    }
   ],
   "source": [
    "# Fit the object\n",
    "dt_clf.fit(X_train, y_train)"
   ]
  },
  {
   "cell_type": "code",
   "execution_count": 34,
   "id": "8fde7222",
   "metadata": {},
   "outputs": [],
   "source": [
    "dt_metrics = compute_metrics(X_test, y_test, dt_clf, \"DecisionTree\")"
   ]
  },
  {
   "cell_type": "code",
   "execution_count": 35,
   "id": "fc3eca00",
   "metadata": {},
   "outputs": [
    {
     "data": {
      "text/html": [
       "<div>\n",
       "<style scoped>\n",
       "    .dataframe tbody tr th:only-of-type {\n",
       "        vertical-align: middle;\n",
       "    }\n",
       "\n",
       "    .dataframe tbody tr th {\n",
       "        vertical-align: top;\n",
       "    }\n",
       "\n",
       "    .dataframe thead th {\n",
       "        text-align: right;\n",
       "    }\n",
       "</style>\n",
       "<table border=\"1\" class=\"dataframe\">\n",
       "  <thead>\n",
       "    <tr style=\"text-align: right;\">\n",
       "      <th></th>\n",
       "      <th>Accuracy Score</th>\n",
       "    </tr>\n",
       "  </thead>\n",
       "  <tbody>\n",
       "    <tr>\n",
       "      <th>DecisionTree</th>\n",
       "      <td>0.687375</td>\n",
       "    </tr>\n",
       "  </tbody>\n",
       "</table>\n",
       "</div>"
      ],
      "text/plain": [
       "              Accuracy Score\n",
       "DecisionTree        0.687375"
      ]
     },
     "execution_count": 35,
     "metadata": {},
     "output_type": "execute_result"
    }
   ],
   "source": [
    "dt_metrics"
   ]
  },
  {
   "cell_type": "markdown",
   "id": "d857e005",
   "metadata": {},
   "source": [
    "# XG Boost Classifier"
   ]
  },
  {
   "cell_type": "code",
   "execution_count": 36,
   "id": "4d47efc5",
   "metadata": {},
   "outputs": [],
   "source": [
    "from xgboost import XGBClassifier"
   ]
  },
  {
   "cell_type": "code",
   "execution_count": 37,
   "id": "f5f1c8f3",
   "metadata": {},
   "outputs": [],
   "source": [
    "# XGB model\n",
    "xgb_model = XGBClassifier(n_estimators=200)"
   ]
  },
  {
   "cell_type": "code",
   "execution_count": 38,
   "id": "75389377",
   "metadata": {},
   "outputs": [
    {
     "name": "stdout",
     "output_type": "stream",
     "text": [
      "[19:23:46] WARNING: C:/Users/Administrator/workspace/xgboost-win64_release_1.5.1/src/learner.cc:1115: Starting in XGBoost 1.3.0, the default evaluation metric used with the objective 'binary:logistic' was changed from 'error' to 'logloss'. Explicitly set eval_metric if you'd like to restore the old behavior.\n"
     ]
    },
    {
     "data": {
      "text/plain": [
       "XGBClassifier(base_score=0.5, booster='gbtree', colsample_bylevel=1,\n",
       "              colsample_bynode=1, colsample_bytree=1, enable_categorical=False,\n",
       "              gamma=0, gpu_id=-1, importance_type=None,\n",
       "              interaction_constraints='', learning_rate=0.300000012,\n",
       "              max_delta_step=0, max_depth=6, min_child_weight=1, missing=nan,\n",
       "              monotone_constraints='()', n_estimators=200, n_jobs=8,\n",
       "              num_parallel_tree=1, predictor='auto', random_state=0,\n",
       "              reg_alpha=0, reg_lambda=1, scale_pos_weight=1, subsample=1,\n",
       "              tree_method='exact', validate_parameters=1, verbosity=None)"
      ]
     },
     "execution_count": 38,
     "metadata": {},
     "output_type": "execute_result"
    }
   ],
   "source": [
    "xgb_model.fit(X_train, y_train)"
   ]
  },
  {
   "cell_type": "code",
   "execution_count": 39,
   "id": "4ba1cbb1",
   "metadata": {},
   "outputs": [],
   "source": [
    "xgb_metrics = compute_metrics(X_test, y_test, xgb_model, 'XGBClassifier')"
   ]
  },
  {
   "cell_type": "code",
   "execution_count": 40,
   "id": "3c846ac1",
   "metadata": {},
   "outputs": [],
   "source": [
    "# Concatenate all the metrics\n",
    "model_metrics = pd.concat((lr_metrics, mnb_metrics, dt_metrics, xgb_metrics), axis=0).sort_values(by='Accuracy Score', ascending=False)"
   ]
  },
  {
   "cell_type": "markdown",
   "id": "af5c641f",
   "metadata": {},
   "source": [
    "# Comparing the accuracies of all models"
   ]
  },
  {
   "cell_type": "code",
   "execution_count": 41,
   "id": "aa5c5948",
   "metadata": {},
   "outputs": [
    {
     "data": {
      "text/html": [
       "<div>\n",
       "<style scoped>\n",
       "    .dataframe tbody tr th:only-of-type {\n",
       "        vertical-align: middle;\n",
       "    }\n",
       "\n",
       "    .dataframe tbody tr th {\n",
       "        vertical-align: top;\n",
       "    }\n",
       "\n",
       "    .dataframe thead th {\n",
       "        text-align: right;\n",
       "    }\n",
       "</style>\n",
       "<table border=\"1\" class=\"dataframe\">\n",
       "  <thead>\n",
       "    <tr style=\"text-align: right;\">\n",
       "      <th></th>\n",
       "      <th>Accuracy Score</th>\n",
       "    </tr>\n",
       "  </thead>\n",
       "  <tbody>\n",
       "    <tr>\n",
       "      <th>LogisticRegression</th>\n",
       "      <td>0.778557</td>\n",
       "    </tr>\n",
       "    <tr>\n",
       "      <th>XGBClassifier</th>\n",
       "      <td>0.777555</td>\n",
       "    </tr>\n",
       "    <tr>\n",
       "      <th>Naive Bayes</th>\n",
       "      <td>0.719439</td>\n",
       "    </tr>\n",
       "    <tr>\n",
       "      <th>DecisionTree</th>\n",
       "      <td>0.687375</td>\n",
       "    </tr>\n",
       "  </tbody>\n",
       "</table>\n",
       "</div>"
      ],
      "text/plain": [
       "                    Accuracy Score\n",
       "LogisticRegression        0.778557\n",
       "XGBClassifier             0.777555\n",
       "Naive Bayes               0.719439\n",
       "DecisionTree              0.687375"
      ]
     },
     "execution_count": 41,
     "metadata": {},
     "output_type": "execute_result"
    }
   ],
   "source": [
    "model_metrics"
   ]
  },
  {
   "cell_type": "markdown",
   "id": "eb1cbe9d",
   "metadata": {},
   "source": [
    "# Final prediction model using XG Boost"
   ]
  },
  {
   "cell_type": "code",
   "execution_count": 42,
   "id": "347801d3",
   "metadata": {},
   "outputs": [],
   "source": [
    "# Make predictions --> XGBoost\n",
    "predictions = xgb_model.predict(test_data)"
   ]
  },
  {
   "cell_type": "markdown",
   "id": "e0609f64",
   "metadata": {},
   "source": [
    "# Predicted dataset"
   ]
  },
  {
   "cell_type": "code",
   "execution_count": 43,
   "id": "f799417b",
   "metadata": {},
   "outputs": [
    {
     "data": {
      "text/plain": [
       "array(['0', '0', '1', ..., '1', '0', '0'], dtype=object)"
      ]
     },
     "execution_count": 43,
     "metadata": {},
     "output_type": "execute_result"
    }
   ],
   "source": [
    "predictions"
   ]
  }
 ],
 "metadata": {
  "kernelspec": {
   "display_name": "Python 3 (ipykernel)",
   "language": "python",
   "name": "python3"
  },
  "language_info": {
   "codemirror_mode": {
    "name": "ipython",
    "version": 3
   },
   "file_extension": ".py",
   "mimetype": "text/x-python",
   "name": "python",
   "nbconvert_exporter": "python",
   "pygments_lexer": "ipython3",
   "version": "3.9.7"
  }
 },
 "nbformat": 4,
 "nbformat_minor": 5
}
